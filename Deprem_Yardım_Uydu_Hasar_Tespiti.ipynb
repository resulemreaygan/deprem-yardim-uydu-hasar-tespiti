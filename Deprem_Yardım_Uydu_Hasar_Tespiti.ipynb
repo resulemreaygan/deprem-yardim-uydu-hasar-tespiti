{
  "nbformat": 4,
  "nbformat_minor": 0,
  "metadata": {
    "colab": {
      "provenance": [],
      "collapsed_sections": [
        "a9lRs5PcVaKY",
        "lwB3-JGybbe6",
        "s_ASEp3deNlh",
        "8OdG0Y0CeSXS",
        "bIgdgCjMVvgb",
        "mOnUdLJqVaYA",
        "Dm58cAVSAFbr",
        "hi4f8Ba-diVf"
      ]
    },
    "kernelspec": {
      "name": "python3",
      "display_name": "Python 3"
    },
    "language_info": {
      "name": "python"
    }
  },
  "cells": [
    {
      "cell_type": "markdown",
      "source": [
        "# Deprem Yardım Uydu Hasar Tespiti"
      ],
      "metadata": {
        "id": "rzJy13-iVOA2"
      }
    },
    {
      "cell_type": "markdown",
      "source": [
        "## 1️⃣ Colab'e İndirme ve Kütüphane Kurulumları"
      ],
      "metadata": {
        "id": "a9lRs5PcVaKY"
      }
    },
    {
      "cell_type": "code",
      "source": [
        "from google.colab import drive\n",
        "drive.mount('/content/drive')"
      ],
      "metadata": {
        "id": "bxrRsM2h-u8P"
      },
      "execution_count": null,
      "outputs": []
    },
    {
      "cell_type": "code",
      "execution_count": null,
      "metadata": {
        "id": "LkyqfALlTO9D"
      },
      "outputs": [],
      "source": [
        "!git clone https://github.com/resulemreaygan/deprem-yardim-uydu-hasar-tespiti.git"
      ]
    },
    {
      "cell_type": "code",
      "source": [
        "cd /content/deprem-yardim-uydu-hasar-tespiti"
      ],
      "metadata": {
        "colab": {
          "base_uri": "https://localhost:8080/"
        },
        "id": "wAzxZORFVIF9",
        "outputId": "54ee57cb-3470-4f43-e40d-17798f999d4c"
      },
      "execution_count": 3,
      "outputs": [
        {
          "output_type": "stream",
          "name": "stdout",
          "text": [
            "/content/deprem-yardim-uydu-hasar-tespiti\n"
          ]
        }
      ]
    },
    {
      "cell_type": "code",
      "source": [
        "!pip install -r requirements.txt"
      ],
      "metadata": {
        "id": "1YOOVJpKU_g2"
      },
      "execution_count": null,
      "outputs": []
    },
    {
      "cell_type": "markdown",
      "source": [
        "## 2️⃣ Uygulama Ayarlarını Yapılandırma"
      ],
      "metadata": {
        "id": "lwB3-JGybbe6"
      }
    },
    {
      "cell_type": "markdown",
      "source": [
        "### .tiff İndirme"
      ],
      "metadata": {
        "id": "s_ASEp3deNlh"
      }
    },
    {
      "cell_type": "markdown",
      "source": [
        "*Kullanım:*\n",
        "\n",
        "\n",
        "• İlk olarak `link_type` adlı değişkeni eğer .tiff dosyaları Google Drive'da ise `Drive` seçeneğini, direct link ise `Direct Link` seçeneğini seçiniz.\n",
        "\n",
        "• Ardından link tipinize göre `drive_link` veya `direct_link` kısmına linkiniz ekleyin.\n",
        "\n",
        "**Örnek Drive linki:** https://drive.google.com/file/d/1tjvOcm0qfn0pBAwOg-vKALdRBl6ZmCdV\n",
        "\n",
        "• Son olarak ![image.png](data:image/png;base64,iVBORw0KGgoAAAANSUhEUgAAAD0AAAAtCAYAAAAdtGNyAAACaUlEQVRoQ+2av64BQRTGR0tLJwhRqDUatYdASZRoadXUWrwDtdpDUGh4A/9uvs2dm73LrDljsjOyM8lGXCe78zvnO+fMzN5ErVZ7sMB4PJ7+9GcR9lvwPrZ+T8hC3+/3J4ZvdcATdBAE37PZrK1B8+Z1PB5J8/sH/QoYEc7lcqSbRm2sFfp2uzE4Ip/PR81Bep42aEQYwPgsFAqkSURtrAztlzaHxSeiXSwWo+YgPU8rNKKMK3bQiHSpVCJ5Pmpj7ZG+XC6sXC5HzUF6nhZofxFz0CT/R2dsZaTr9TqrVCreIof3/P1+zw6HA9vtdt71yfgYGm3K37I+kXe1WmXNZpNlMplQptPpxFarlTK8NdCtVos1Gg1SANfrtQdPHVZAqwBz0M1mw5bLJYlbKzSq+PV6JbUsSLrf75MmHTSezWYkqRuHnk6nLJ1Ov4RG4ZLZsSHHh8OhtOOMQqNKd7td4WR7vZ5X2GD3blCibRQawGFA7XbbY4UN8j6ZTArZt9stm8/n73zj/W4UejKZhMqXQ2Oi6Ndwkkju6OPj8dh+6MViETpJPzQMU6lUqNyD9qKbG410LKGp8u50OsKjKFT60Whkv7wphQxVHPIWja8pZLFsWYha2OIEFVnmZPV8PrPBYCAlbeMtCxOI5TIU4LHbcHBNqoCr7LCskLc/ESF1wIs2INwWOYztpOoJitHFiajyAB4XihhfdqIPo7BZd1yksp+WLrkaDa2MtEa+l7dy0BIe/ns/zV/g+U9DnbwlPGjKxMlbwvNO3nCSy2mFc28JdWk3cTkt4VKX0y6nf//JhvouS0Jd2k2oOf0DSiJJs7GjGnsAAAAASUVORK5CYII=) resimdeki butona tıklamanız yeterli."
      ],
      "metadata": {
        "id": "kM_1ATFIbrWu"
      }
    },
    {
      "cell_type": "code",
      "source": [
        "link_type = 'Drive'  #@param [\"Drive\", \"Direct Link\"]\n",
        "folder_file = False #@param {type:\"boolean\"}\n",
        "if link_type == 'Drive':\n",
        "  drive_link = \"https://drive.google.com/file/d/1tjvOcm0qfn0pBAwOg-vKALdRBl6ZmCdV\"  #@param {type:\"string\"}\n",
        "  if folder_file:\n",
        "    code = f\"gdown --folder {drive_link}\"\n",
        "  else:\n",
        "    drive_link = drive_link.replace(\"https://drive.google.com/file/d/\", \"https://drive.google.com/uc?id=\")\n",
        "    code = f\"gdown {drive_link}\"\n",
        "  !{code}\n",
        "  print(\"✅ İndirme Tamamlandı.\")\n",
        "\n",
        "elif link_type == 'Direct Link':\n",
        "  direct_link = \"Buraya .tiff dosyasına ait linki ekleyin.\" #@param {type:\"string\"}\n",
        "  code = f\"wget {direct_link}\"\n",
        "  !{code}\n",
        "  print(\"✅ İndirme Tamamlandı.\")"
      ],
      "metadata": {
        "cellView": "form",
        "id": "l_RIS0WUZdBo"
      },
      "execution_count": null,
      "outputs": []
    },
    {
      "cell_type": "markdown",
      "source": [
        "### config.json Yapılandırması"
      ],
      "metadata": {
        "id": "8OdG0Y0CeSXS"
      }
    },
    {
      "cell_type": "markdown",
      "source": [
        "***Kullanım:***\n",
        "\n",
        "• Değişkenler **Default** olarak yereleştirilmiştir değiştrimek istedğiniz değişkenleri değiştirerek hücreyi çalıştırın.\n",
        "\n",
        "***Değişken tipleri:***\n",
        "\n",
        "• crop_size_x: **int**\n",
        "\n",
        "• crop_size_y: **int**\n",
        "\n",
        "• raster_path: **string**\n",
        "\n",
        "• output_dir: **string**\n",
        "\n",
        "• raster_format: **string**\n",
        "\n",
        "• save_as_png: **boolean**"
      ],
      "metadata": {
        "id": "F-ulT_7Rfx4U"
      }
    },
    {
      "cell_type": "code",
      "source": [
        "import json, os\n",
        "\n",
        "crop_size_x = 2048 #@param {type:\"integer\"}\n",
        "crop_size_y = 2048 #@param {type:\"integer\"}\n",
        "raster_path = \"/content/drive/MyDrive/C\\u0327\\u0131ktlar/gaziantep.tif\" #@param {type:\"string\"}\n",
        "output_dir = \"/content/drive/MyDrive/C\\u0327\\u0131ktlar/gaziantep/\" #@param {type:\"string\"}\n",
        "raster_format = \"GTIFF\" #@param {type:\"string\"}\n",
        "shape_path = \"/content/drive/MyDrive/C\\u0327\\u0131ktlar/gaziantep.shp\" #@param {type:\"string\"}\n",
        "save_as_png = True #@param {type:\"boolean\"}\n",
        "crop_shape = True #@param {type:\"boolean\"}\n",
        "seg_mask = True #@param {type:\"boolean\"}\n",
        "\n",
        "\n",
        "default_config = {\n",
        "  \"crop_size_x\": crop_size_x,\n",
        "  \"crop_size_y\": crop_size_y,\n",
        "  \"raster_path\": raster_path,\n",
        "  \"output_dir\": output_dir,\n",
        "  \"raster_format\": raster_format,\n",
        "  \"save_as_png\": save_as_png,\n",
        "  \"crop_shape\": crop_shape,\n",
        "  \"shape_path\": shape_path,\n",
        "  \"seg_mask\": seg_mask\n",
        "  }\n",
        "try:\n",
        "  os.mkdir(output_dir)\n",
        "except:\n",
        "  print(\"Klasör zaten daha önceden oluşturumuş.\")\n",
        "jsonstr = json.dumps(default_config, indent = 2)\n",
        "with open(\"/content/deprem-yardim-uydu-hasar-tespiti/config.json\", 'w', encoding='utf-8') as file:\n",
        "  file.write(str(jsonstr).replace(\"'\",'\"'))\n",
        "print(\"✅ Yapılandırma Tamamlandı.\")\n"
      ],
      "metadata": {
        "id": "cbSOaA2beXDj",
        "cellView": "form"
      },
      "execution_count": null,
      "outputs": []
    },
    {
      "cell_type": "markdown",
      "source": [
        "##3️⃣ Uygulamayı Çalıştırma"
      ],
      "metadata": {
        "id": "bIgdgCjMVvgb"
      }
    },
    {
      "cell_type": "code",
      "source": [
        "!python3 main.py"
      ],
      "metadata": {
        "id": "RY_tf_n2V1XB"
      },
      "execution_count": null,
      "outputs": []
    },
    {
      "cell_type": "markdown",
      "metadata": {
        "id": "mOnUdLJqVaYA"
      },
      "source": [
        "#🤐 __Rar/Tar Files/Folders__"
      ]
    },
    {
      "cell_type": "markdown",
      "metadata": {
        "id": "BjYXYIk0VaYE"
      },
      "source": [
        "##__Rar Files/Folders__\n",
        "\n",
        "\n",
        "\n"
      ]
    },
    {
      "cell_type": "code",
      "metadata": {
        "id": "lNeNaDMSWHFI"
      },
      "source": [
        "# <= Click this cell to rar the folder\n",
        "\n",
        "!apt-get install rar"
      ],
      "execution_count": null,
      "outputs": []
    },
    {
      "cell_type": "markdown",
      "metadata": {
        "id": "G24N0obDVaYE"
      },
      "source": [
        "*   First path in below cell - Your Rar File output Name (do not put .rar at the end. It will take it automatically)\n",
        "*   Second path in below cell - Google Drive file location of the files/folder which you want to Rar\n",
        "\n",
        "*If you want to create a password protected rar file, then add \"-p\" flag or Use this command instead of the command in in the cell.\n",
        "(replace the command with the command in the cell) After running the cell, it will ask you to provide the password*\n",
        "\n",
        "* ```\n",
        "!rar a -p \"/content/drive/path/output_file_name\" \"/content/drive/path/input_file_or_folder\"\n",
        "```"
      ]
    },
    {
      "cell_type": "code",
      "metadata": {
        "cellView": "both",
        "id": "WtbqIDwIVaYF"
      },
      "source": [
        "!rar a \"/content/output\" \"/content/drive/MyDrive/output\""
      ],
      "execution_count": null,
      "outputs": []
    },
    {
      "cell_type": "markdown",
      "metadata": {
        "id": "Dm58cAVSAFbr"
      },
      "source": [
        "##__Tar Files/Folders__\n",
        "\n"
      ]
    },
    {
      "cell_type": "markdown",
      "metadata": {
        "id": "9aBzSi69AFbt"
      },
      "source": [
        "*   First path in below cell - Your Tar output filename\n",
        "*   Second path in below cell - Google Drive file location of the files which you want to Tar\n",
        "\n",
        " *__Flags__*\n",
        "\n",
        " * -c : Create a new archive\n",
        " * -v : Verbose output\n",
        " * -f : Use the given archive file (name.extention)\n",
        " * -z : Filter the archive through gzip\n",
        " * -j : Filter the archive through bzip2"
      ]
    },
    {
      "cell_type": "code",
      "metadata": {
        "cellView": "both",
        "id": "EjAf_hxSAFbt"
      },
      "source": [
        "!tar -cvf \"/content/drive/path/output_file_name.tar\" \"/content/drive/path/input_file_or_folder\"     #[run this cell to create tar files]"
      ],
      "execution_count": null,
      "outputs": []
    },
    {
      "cell_type": "code",
      "metadata": {
        "id": "0n-O8xGADZ2o"
      },
      "source": [
        "!tar -czvf \"/content/drive/path/output_file_name.tar.gz\" \"/content/drive/path/input_file_or_folder\"     #[run this cell to create tar.gz files]"
      ],
      "execution_count": null,
      "outputs": []
    },
    {
      "cell_type": "code",
      "metadata": {
        "id": "qjdZ4cTbD8qx"
      },
      "source": [
        "!tar -cjvf \"/content/drive/path/output_file_name.tar.bz2\" \"/content/drive/path/input_file_or_folder\"      #[run this cell to create tar.bz2 files]"
      ],
      "execution_count": null,
      "outputs": []
    },
    {
      "cell_type": "markdown",
      "metadata": {
        "id": "hi4f8Ba-diVf"
      },
      "source": [
        "#😃 __Unrar/Untar Files__"
      ]
    },
    {
      "cell_type": "markdown",
      "metadata": {
        "id": "bAls_UEYfwIX"
      },
      "source": [
        "##__Unzip Files__\n",
        "\n"
      ]
    },
    {
      "cell_type": "markdown",
      "metadata": {
        "id": "o_zFmom9fWNW"
      },
      "source": [
        "*   First path in below cell - Your Google Drive file location which you want to Unzip\n",
        "*   Second path in below cell - Path where you want to extract the zip file in Google Drive"
      ]
    },
    {
      "cell_type": "code",
      "metadata": {
        "id": "O1_kc7HBeslm",
        "cellView": "both"
      },
      "source": [
        "!unzip \"/content/drive/path/input_file_name.zip\" -d \"/content/drive/path/output_folder/\""
      ],
      "execution_count": null,
      "outputs": []
    },
    {
      "cell_type": "markdown",
      "metadata": {
        "id": "IoAshgcf45gs"
      },
      "source": [
        "##__Unrar Files</center>__\n",
        "\n",
        "\n",
        "\n"
      ]
    },
    {
      "cell_type": "markdown",
      "metadata": {
        "id": "Z1Ql6FiDdBYW"
      },
      "source": [
        "*   First path in below cell - Your Google Drive file location which you want to Unrar\n",
        "*   Second path in below cell - Path where you want to extract the rar file in Google Drive\n",
        "\n",
        "*If you want to extract a password protected rar file, then add \"-Y\" flag or Use this command instead of the command in the cell\n",
        "(replace the command with the command in the cell)*\n",
        "\n",
        "* ```\n",
        "!unrar x -Y \"/content/drive/path/input_file_name.rar\" \"/content/drive/path/output_folder/\"\n",
        "```\n",
        "\n",
        "\n",
        "\n"
      ]
    },
    {
      "cell_type": "code",
      "metadata": {
        "id": "5ScZvnCdzKm3",
        "cellView": "both"
      },
      "source": [
        "!unrar x \"/content/drive/path/input_file_name.rar\" \"/content/drive/path/output_folder/\""
      ],
      "execution_count": null,
      "outputs": []
    },
    {
      "cell_type": "markdown",
      "metadata": {
        "id": "o1PFiGyMAMvg"
      },
      "source": [
        "##__Untar Files__\n",
        "\n"
      ]
    },
    {
      "cell_type": "markdown",
      "metadata": {
        "id": "sBWJzqQtAMvg"
      },
      "source": [
        "*   First path in below cell - Your Google Drive file location which you want to Untar\n",
        "*   Second path in below cell - Path where you want to extract the tar file in Google Drive\n",
        "\n",
        " *__Flags__*\n",
        "\n",
        " * -x : Extract a tar ball.\n",
        " * -v : Verbose output or show progress while extracting files.\n",
        " * -f : Specify an archive or a tarball filename.\n",
        " * -C : Specify a different directory to extract\n",
        " * -z : Decompress and extract the contents of the compressed archive created by gzip program (tar.gz extension).\n",
        " * -j : Decompress and extract the contents of the compressed archive created by bzip2 program (tar.bz2 extension)."
      ]
    },
    {
      "cell_type": "code",
      "metadata": {
        "cellView": "both",
        "id": "EKjIowyWAMvh"
      },
      "source": [
        "!tar -xvf \"/content/drive/path/input_file_name.tar\" -C \"/content/drive/path/output_folder/\"     #[run this cell to extract tar files]"
      ],
      "execution_count": null,
      "outputs": []
    },
    {
      "cell_type": "code",
      "metadata": {
        "id": "YfSkw7IFH2pl"
      },
      "source": [
        "!tar -xzvf \"/content/drive/path/input_file_name.tar.gz\" -C \"/content/drive/path/output_folder/\"     #[run this cell to extract tar.gz files]"
      ],
      "execution_count": null,
      "outputs": []
    },
    {
      "cell_type": "code",
      "metadata": {
        "id": "tVaZLH-hH54z"
      },
      "source": [
        "!tar -xjvf \"/content/drive/path/input_file_name.tar.bz2\" -C \"/content/drive/path/output_folder/\"     #[run this cell to extract tar.bz2 files]"
      ],
      "execution_count": null,
      "outputs": []
    }
  ]
}